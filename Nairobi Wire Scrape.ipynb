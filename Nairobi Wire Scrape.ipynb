{
 "cells": [
  {
   "cell_type": "markdown",
   "metadata": {},
   "source": [
    "## Webscraping Nairobi Wire: Extracting News Headlines and Summaries"
   ]
  },
  {
   "cell_type": "markdown",
   "metadata": {},
   "source": [
    "Import beautifulsoup4 and requests"
   ]
  },
  {
   "cell_type": "code",
   "execution_count": 13,
   "metadata": {},
   "outputs": [],
   "source": [
    "from bs4 import BeautifulSoup\n",
    "import requests"
   ]
  },
  {
   "cell_type": "markdown",
   "metadata": {},
   "source": [
    "Set `Nairobi Wire` website you want to scrape"
   ]
  },
  {
   "cell_type": "code",
   "execution_count": 14,
   "metadata": {},
   "outputs": [],
   "source": [
    "url = 'https://nairobiwire.com/'"
   ]
  },
  {
   "cell_type": "markdown",
   "metadata": {},
   "source": [
    "Use requests to get the HTML content of the website"
   ]
  },
  {
   "cell_type": "code",
   "execution_count": 15,
   "metadata": {},
   "outputs": [],
   "source": [
    "response = requests.get(url)"
   ]
  },
  {
   "cell_type": "code",
   "execution_count": 16,
   "metadata": {},
   "outputs": [
    {
     "data": {
      "text/plain": [
       "<Response [200]>"
      ]
     },
     "execution_count": 16,
     "metadata": {},
     "output_type": "execute_result"
    }
   ],
   "source": [
    "# Check whether  request was successful, code 200 means success\n",
    "requests.get(url)"
   ]
  },
  {
   "cell_type": "markdown",
   "metadata": {},
   "source": [
    "Use beautifulsoup4 to parse the html content of the page"
   ]
  },
  {
   "cell_type": "code",
   "execution_count": 17,
   "metadata": {},
   "outputs": [],
   "source": [
    "soup = BeautifulSoup(response.text, 'html.parser')"
   ]
  },
  {
   "cell_type": "code",
   "execution_count": 66,
   "metadata": {},
   "outputs": [],
   "source": [
    "%%capture\n",
    "print(soup.prettify());"
   ]
  },
  {
   "cell_type": "markdown",
   "metadata": {},
   "source": [
    "Create a function to get articles and summaries from the website"
   ]
  },
  {
   "cell_type": "code",
   "execution_count": null,
   "metadata": {},
   "outputs": [],
   "source": [
    "def scrape_articles(soup):\n",
    "    articles_data = []  # Initialize list to store articles\n",
    "\n",
    "    # Find all articles in the soup\n",
    "    articles = soup.find_all('article')\n",
    "\n",
    "    for index, article in enumerate(articles, start=1):  # Enumerate the articles\n",
    "        try:\n",
    "            # Extract headline and summary\n",
    "            headline_tag = article.find('h2')\n",
    "            summary_tag = article.find(class_='excerpt56 component56')\n",
    "\n",
    "            # Extract text from headline and summary tags\n",
    "            headline = headline_tag.text.strip() if headline_tag else 'No headline available'\n",
    "            summary = summary_tag.text.strip() if summary_tag else 'No summary available'\n",
    "            \n",
    "            # Append to the data list\n",
    "            articles_data.append({\n",
    "                'No.': index,\n",
    "                'headline': headline,\n",
    "                'summary': summary,\n",
    "                'seperator':'--------------------------'\n",
    "            })\n",
    "        except Exception as e:\n",
    "            # Log any processing errors\n",
    "            print(f\"Error processing article {index}: {e}\")\n",
    "    \n",
    "    return articles_data  # Return the collected data\n"
   ]
  },
  {
   "cell_type": "markdown",
   "metadata": {},
   "source": [
    "Print the returned data in a neat format"
   ]
  },
  {
   "cell_type": "code",
   "execution_count": null,
   "metadata": {},
   "outputs": [
    {
     "name": "stdout",
     "output_type": "stream",
     "text": [
      "Article No. 1\n",
      "Headline: KCSE 2024 Ranking: Is Nyambaria High The Top School in Kenya..?\n",
      "Summary: The Kenya National Examination Council (KNEC) has categorically denied allegations that it ranked Nyambaria High School or any other institution as the top performer in the 2024 Kenya Certificate of Secondary Education\n",
      "----------------------------------------\n",
      "Article No. 2\n",
      "Headline: IMF Pushes Ruto To Regulate Crypto\n",
      "Summary: No summary available\n",
      "----------------------------------------\n",
      "Article No. 3\n",
      "Headline: Education Ministry Introduces Mid-Year KCSE Exams Starting This Year\n",
      "Summary: No summary available\n",
      "----------------------------------------\n",
      "Article No. 4\n",
      "Headline: Kenyan Court Decriminalizes Attempted Suicide, Protects Mental Health Rights\n",
      "Summary: No summary available\n",
      "----------------------------------------\n",
      "Article No. 5\n",
      "Headline: Morara Kebaso Responds to KRA’s Tax Probe, Calls It a Political Witch-Hunt\n",
      "Summary: No summary available\n",
      "----------------------------------------\n",
      "Article No. 6\n",
      "Headline: The Funniest Trending Memes in Nairobi This Friday\n",
      "Summary: No summary available\n",
      "----------------------------------------\n",
      "Article No. 7\n",
      "Headline: NTSA Impounds ‘Moneyfest’ Matatu After Viral Video Shows Reckless Driving\n",
      "Summary: No summary available\n",
      "----------------------------------------\n",
      "Article No. 8\n",
      "Headline: Step-by-Step Guide: Accessing KPSEA/KILEA Performance Reports for Learners\n",
      "Summary: The Kenya National Examination Council (KNEC) has officially released the 2024 Kenya Primary School Education Assessment (KPSEA) results.\n",
      "----------------------------------------\n",
      "Article No. 9\n",
      "Headline: 4,888 Affordable Housing Units Ready in 17 Counties: Prices and Availability\n",
      "Summary: The State Department for Housing and Urban Development has officially launched the sale of Affordable Housing Units across\n",
      "----------------------------------------\n",
      "Article No. 10\n",
      "Headline: Governor Mbarire: ‘We Cannot Ask for Development While Heckling the President’\n",
      "Summary: Embu Governor Cecily Mbarire condemned her county’s constituents for heckling President William Ruto during a church service on\n",
      "----------------------------------------\n",
      "Article No. 11\n",
      "Headline: Governor Sakaja Orders Hawkers to Move to Designated Backstreets in Nairobi CBD\n",
      "Summary: The Nairobi County government has directed hawkers to relocate to the backstreets of the\n",
      "----------------------------------------\n",
      "Article No. 12\n",
      "Headline: CCTV Installation, User Identification…New Rules for Internet Cafés Announced\n",
      "Summary: The Kenyan government is set to relicense all internet cafés and introduce stricter regulations\n",
      "----------------------------------------\n",
      "Article No. 13\n",
      "Headline: Ugandan Nanny in Eastleigh Robbery Stole Gold and Laptop, Court Hears\n",
      "Summary: Everline Nabalyo Loice, a Ugandan nanny, has been arraigned in connection with a violent\n",
      "----------------------------------------\n",
      "Article No. 14\n",
      "Headline: MPs to Decide on Ruto’s Cabinet Picks During Special Sitting Next Week\n",
      "Summary: National Assembly Speaker Moses Wetang’ula has scheduled a special sitting on Thursday, January 16,\n",
      "----------------------------------------\n",
      "Article No. 15\n",
      "Headline: How to Spot Pirated Textbooks: Tips from Kenya Publishers Association\n",
      "Summary: On Wednesday, January 8, Kenya Publishers Association (KPA) Chairman James Odhiambo led a series\n",
      "----------------------------------------\n",
      "Article No. 16\n",
      "Headline: Ruto Announces Permanent KDF Camps in Kerio Valley to Tackle Insecurity\n",
      "Summary: President William Ruto has announced that the Kenya Defence Forces (KDF) will set up\n",
      "----------------------------------------\n",
      "Article No. 17\n",
      "Headline: KNEC Website Crashes Again, Leaving Parents, Candidates Helpless\n",
      "Summary: Moments after the 2024 Kenya Certificate of Secondary Education (KCSE) results were announced by\n",
      "----------------------------------------\n",
      "Article No. 18\n",
      "Headline: Is the Solana blockchain truly an alternative to Ethereum?\n",
      "Summary: Solana and Ethereum have been competing since they became popular. Both altcoins share numerous\n",
      "----------------------------------------\n",
      "Article No. 19\n",
      "Headline: The Branding Edge: Custom Table Covers and Logo Runners for Every Occasion\n",
      "Summary: Every element counts in making a lasting impression in the cutthroat realm of corporate\n",
      "----------------------------------------\n",
      "Article No. 20\n",
      "Headline: How To Check Your 2024 KCSE Results.. Set To Be Released Today\n",
      "Summary: We now have confirmation that the much-anticipated 2024 Kenya Certificate of Secondary Education (KCSE)\n",
      "----------------------------------------\n",
      "Article No. 21\n",
      "Headline: Watch: Kenyans Raid Virtual JKIA Lease Case, Chanting “Adani Must Go”\n",
      "Summary: No summary available\n",
      "----------------------------------------\n",
      "Article No. 22\n",
      "Headline: VIDEO: Speaker Wetang’ula Fuming Over DP Rigathi Gachagua’s ‘Shareholder’ Interview\n",
      "Summary: No summary available\n",
      "----------------------------------------\n",
      "Article No. 23\n",
      "Headline: CS Mbadi Assures Kenyans of Economic Revival in One Year\n",
      "Summary: No summary available\n",
      "----------------------------------------\n"
     ]
    }
   ],
   "source": [
    "articles_data = scrape_articles(soup)\n",
    "\n",
    "# Format and display the results in a neat way with numbering\n",
    "for article in articles_data:\n",
    "    print(f\"Article No. {article['No.']}\")\n",
    "    print(f\"Headline: {article['headline']}\")\n",
    "    print(f\"Summary: {article['summary']}\")\n",
    "    print(\"-\" * 40)  # Add separator line for clarity\n"
   ]
  },
  {
   "cell_type": "markdown",
   "metadata": {},
   "source": [
    "Create a function to save scraped data into a text file"
   ]
  },
  {
   "cell_type": "code",
   "execution_count": null,
   "metadata": {},
   "outputs": [],
   "source": [
    "def save_as_txt(articles_data):\n",
    "    with open('scraped_data.txt', 'w') as file:\n",
    "        for article in articles_data:\n",
    "            file.write(f\"Article No. {article['No.']}\\n\")\n",
    "            file.write(f\"Headline: {article['headline']}\\n\")\n",
    "            file.write(f\"Summary: {article['summary']}\\n\")\n",
    "            file.write(\"-\" * 40 + \"\\n\")\n"
   ]
  },
  {
   "cell_type": "code",
   "execution_count": 62,
   "metadata": {},
   "outputs": [],
   "source": [
    "save_as_txt(articles_data)  # Save the scraped data to a text file"
   ]
  }
 ],
 "metadata": {
  "kernelspec": {
   "display_name": "venv",
   "language": "python",
   "name": "python3"
  },
  "language_info": {
   "codemirror_mode": {
    "name": "ipython",
    "version": 3
   },
   "file_extension": ".py",
   "mimetype": "text/x-python",
   "name": "python",
   "nbconvert_exporter": "python",
   "pygments_lexer": "ipython3",
   "version": "3.12.7"
  }
 },
 "nbformat": 4,
 "nbformat_minor": 2
}
